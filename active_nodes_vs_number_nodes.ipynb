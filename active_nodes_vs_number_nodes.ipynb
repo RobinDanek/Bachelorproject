{
 "cells": [
  {
   "cell_type": "code",
   "execution_count": 9,
   "metadata": {},
   "outputs": [],
   "source": [
    "import networkx as nx\n",
    "import random as rd\n",
    "import matplotlib.pyplot as plt\n",
    "import numpy as np\n",
    "from collections import Counter\n",
    "import math\n",
    "import pandas as pd"
   ]
  },
  {
   "cell_type": "code",
   "execution_count": 10,
   "metadata": {},
   "outputs": [],
   "source": [
    "File_Names = ['a3_b3_g2.1_e2_1.0_1', 'a3_b3_g2.1_e2_1.0_2', 'a3_b3_g2.1_e2_1.0_3', 'a3_b3_g2.1_e2_1.0_4', 'a3_b3_g2.1_e2_1.0_5', 'a3_b3_g2.1_e2_1.0_6', 'a3_b3_g2.1_e2_1.0_7', 'a3_b3_g2.1_e2_1.0_8', 'a3_b3_g2.1_e2_1.0_9', 'a3_b3_g2.1_e2_1.0_10', 'a3_b3_g2.1_e2_1.0_11', 'a3_b3_g2.1_e2_1.0_12', 'a3_b3_g2.1_e2_1.0_13', 'a3_b3_g2.1_e2_1.0_14', 'a3_b3_g2.1_e2_1.0_15']\n",
    "\n",
    "g = globals()\n",
    "N = 1000 # Number of nodes\n",
    "\n",
    "files = len(File_Names)\n",
    "\n",
    "for i in range(files):\n",
    "    g[f\"data{i+1}\"] = np.loadtxt(f'D:\\Daten mit Änderungen\\Physik\\Bachelorarbeit\\Generated_Data\\{File_Names[i]}.csv', delimiter=',')"
   ]
  },
  {
   "cell_type": "code",
   "execution_count": 28,
   "metadata": {},
   "outputs": [
    {
     "data": {
      "image/png": "[encoded data removed]",
      "text/plain": [
       "<Figure size 648x432 with 1 Axes>"
      ]
     },
     "metadata": {
      "needs_background": "light"
     },
     "output_type": "display_data"
    }
   ],
   "source": [
    "### Looking for correlation between number of extremely active nodes and number of nodes in each polarization corner\n",
    "\n",
    "# Splitting each dataset into 4:\n",
    "\n",
    "for i in range(files):\n",
    "    ord = np.zeros(N)\n",
    "    for j in range(N):\n",
    "\n",
    "        iter = 10\n",
    "        # Aggregate opinion over last iter iterations to reduce influence of fluctuations\n",
    "        # This assumes numerical stability over last iterations!\n",
    "        op1 = 0\n",
    "        op2 = 0\n",
    "        for k in range(iter):\n",
    "            op1 += g[f\"data{i+1}\"][len(g[f\"data{i+1}\"])-2-2*k][j]\n",
    "            op2 += g[f\"data{i+1}\"][len(g[f\"data{i+1}\"])-1-2*k][j]\n",
    "        op1 = op1/iter\n",
    "        op2 = op2/iter\n",
    "        \n",
    "        # ord saves quadrant of node in scatter plot (op1 x, op2 y), ord[i]==1 top right, ord[i]==2 top left and so on\n",
    "        if op1 > 0:\n",
    "            if op2 > 0:\n",
    "                ord[j] = 1\n",
    "            else: \n",
    "                ord[j] = 4\n",
    "        else:\n",
    "            if op2 > 0:\n",
    "                ord[j] = 2\n",
    "            else: \n",
    "                ord[j] = 3\n",
    "                \n",
    "    # Now creating 4 datasets saving the only node's activity in the dataset corresponding to its corner\n",
    "    for j in range(4):\n",
    "        g[f\"data{i+1}_corn{j+1}\"] = []\n",
    "\n",
    "    for j in range(N):\n",
    "        if ord[j] == 1:\n",
    "            g[f\"data{i+1}_corn1\"].append( g[f\"data{i+1}\"][0][j] )\n",
    "        if ord[j] == 2:\n",
    "            g[f\"data{i+1}_corn2\"].append( g[f\"data{i+1}\"][0][j] )\n",
    "        if ord[j] == 3:\n",
    "            g[f\"data{i+1}_corn3\"].append( g[f\"data{i+1}\"][0][j] )\n",
    "        if ord[j] == 4:\n",
    "            g[f\"data{i+1}_corn4\"].append( g[f\"data{i+1}\"][0][j] )\n",
    "\n",
    "# Going through the datasets and counting # of nodes with activity smaller and bigger than act_thresh\n",
    "act_thresh = 0.1\n",
    "\n",
    "# first column of count_arr # is number of nodes with activity below a_thresh\n",
    "count_arr = np.zeros((files*4, 2))\n",
    "for i in range(files):\n",
    "    for j in range(4):\n",
    "        for k in range( len(g[f\"data{i+1}_corn{j+1}\"]) ):\n",
    "            act = g[f\"data{i+1}_corn{j+1}\"][k]\n",
    "            if act < act_thresh: \n",
    "                count_arr[i*4+j][0] += 1\n",
    "            if act >= act_thresh: \n",
    "                count_arr[i*4+j][1] += 1\n",
    "\n",
    "# Plotting # of nodes with activity > act_thresh against # those with activity < act_thresh + Linear fit\n",
    "# Fit data\n",
    "from sklearn.linear_model import LinearRegression\n",
    "lin_reg = LinearRegression()\n",
    "x = np.array(count_arr[:,0])\n",
    "x = x.reshape(-1, 1)\n",
    "y = np.array(count_arr[:,1])\n",
    "\n",
    "lin_reg.fit(X=x, y=y)\n",
    "\n",
    "\"\"\"\n",
    "print(\"y-intercept:\", lin_reg.intercept_)\n",
    "print(\"slope:\", lin_reg.coef_)\n",
    "print(\"R²:\", lin_reg.score(x, y))\n",
    "\"\"\"\n",
    "\n",
    "# Plot fit and data\n",
    "def f(x):\n",
    "    return lin_reg.intercept_ + x*lin_reg.coef_\n",
    "\n",
    "min = np.min(x)\n",
    "max = np.max(x)\n",
    "arr = np.arange(min, max)\n",
    "\n",
    "plt.figure(figsize=(9,6))\n",
    "plt.scatter(count_arr[:,0], count_arr[:,1], label=\"Data\", marker=\"2\")\n",
    "plt.plot(arr, f(arr), label=\"Fit\", color=\"r\")\n",
    "plt.xlabel(\"# nodes excl. active nodes\")\n",
    "plt.ylabel(\"# activy nodes\")\n",
    "plt.title(\"Number of very active nodes against number of nodes (excl. active nodes) in each corner\")\n",
    "plt.legend()\n",
    "plt.show()\n"
   ]
  },
  {
   "cell_type": "code",
   "execution_count": 23,
   "metadata": {},
   "outputs": [
    {
     "name": "stdout",
     "output_type": "stream",
     "text": [
      "y-intercept: 1.6255673931454773\n",
      "slope: [0.07004136]\n",
      "R²: 0.20716506677731195\n"
     ]
    }
   ],
   "source": [
    "from sklearn.linear_model import LinearRegression\n",
    "lin_reg = LinearRegression()\n",
    "x = np.array(count_arr[:,0])\n",
    "x = x.reshape(-1, 1)\n",
    "y = np.array(count_arr[:,1])\n",
    "\n",
    "lin_reg.fit(X=x, y=y)\n",
    "\n",
    "print(\"y-intercept:\", lin_reg.intercept_)\n",
    "print(\"slope:\", lin_reg.coef_)\n",
    "print(\"R²:\", lin_reg.score(x, y))\n"
   ]
  },
  {
   "cell_type": "code",
   "execution_count": null,
   "metadata": {},
   "outputs": [],
   "source": []
  }
 ],
 "metadata": {
  "interpreter": {
   "hash": "6ddb9d49f01c08b650b2475798d3b5b8f5fc430922bf05166bf85d448657af32"
  },
  "kernelspec": {
   "display_name": "Python 3.10.4 64-bit",
   "language": "python",
   "name": "python3"
  },
  "language_info": {
   "codemirror_mode": {
    "name": "ipython",
    "version": 3
   },
   "file_extension": ".py",
   "mimetype": "text/x-python",
   "name": "python",
   "nbconvert_exporter": "python",
   "pygments_lexer": "ipython3",
   "version": "3.10.4"
  },
  "orig_nbformat": 4
 },
 "nbformat": 4,
 "nbformat_minor": 2
}
