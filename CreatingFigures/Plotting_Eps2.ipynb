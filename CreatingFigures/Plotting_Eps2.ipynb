{
 "cells": [
  {
   "cell_type": "code",
   "execution_count": 3,
   "metadata": {},
   "outputs": [],
   "source": [
    "import numpy as np\n",
    "import matplotlib.pyplot as plt\n",
    "\n",
    "g = globals()"
   ]
  },
  {
   "cell_type": "code",
   "execution_count": 12,
   "metadata": {},
   "outputs": [],
   "source": [
    "eps2 = [0.1]\n",
    "alpha = [1.5, 2.5]\n",
    "\n",
    "for j, a in enumerate(alpha):\n",
    "    for i, e in enumerate(eps2):\n",
    "        g[f\"data{i}_{j}\"] = np.loadtxt(f\"D:/Daten mit Änderungen/Physik/Bachelorarbeit/Generated_Data/Original/a{a}_eps2_{e}.csv\", delimiter=',')"
   ]
  },
  {
   "cell_type": "code",
   "execution_count": 20,
   "metadata": {},
   "outputs": [
    {
     "data": {
      "image/png": "[encoded data removed]",
      "text/plain": [
       "<Figure size 432x216 with 2 Axes>"
      ]
     },
     "metadata": {
      "needs_background": "light"
     },
     "output_type": "display_data"
    }
   ],
   "source": [
    "fig, ax = plt.subplots(len(eps2), len(alpha), sharex = True, sharey=True, figsize=(3*len(alpha), 3*len(eps2)))\n",
    "for j, a in enumerate(alpha):\n",
    "    for i, e in enumerate(eps2):\n",
    "        ax[j].hist(g[f\"data{i}_{j}\"][4], density=True, bins=50)\n",
    "        ax[j].set_xlim(-10,10)\n",
    "        ax[j].set_title(f\"$\\\\alpha={a}$, $\\\\cos(\\delta)=0.0$\")\n",
    "        ax[j].set_xlabel(\"Opinion\")\n",
    "        ax[j].set_ylim(0,0.6)\n",
    "\n",
    "plt.savefig(\"D:\\Daten mit Änderungen\\Physik\\Bachelorarbeit\\Figures\\Eps2.png\", dpi=500)"
   ]
  },
  {
   "cell_type": "code",
   "execution_count": null,
   "metadata": {},
   "outputs": [],
   "source": []
  }
 ],
 "metadata": {
  "kernelspec": {
   "display_name": "Python 3.10.8 64-bit (microsoft store)",
   "language": "python",
   "name": "python3"
  },
  "language_info": {
   "codemirror_mode": {
    "name": "ipython",
    "version": 3
   },
   "file_extension": ".py",
   "mimetype": "text/x-python",
   "name": "python",
   "nbconvert_exporter": "python",
   "pygments_lexer": "ipython3",
   "version": "3.10.8"
  },
  "orig_nbformat": 4,
  "vscode": {
   "interpreter": {
    "hash": "a43a38218446af9f3f644dc305add7556420d20a7bd0f7c0bcbaae982149b110"
   }
  }
 },
 "nbformat": 4,
 "nbformat_minor": 2
}
