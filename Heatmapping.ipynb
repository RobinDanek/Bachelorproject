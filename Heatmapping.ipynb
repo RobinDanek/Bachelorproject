{
 "cells": [
  {
   "cell_type": "code",
   "execution_count": 1,
   "metadata": {},
   "outputs": [],
   "source": [
    "import numpy as np\n",
    "import seaborn as sb\n",
    "import pandas as pd\n",
    "from matplotlib.colors import ListedColormap\n",
    "import matplotlib.pyplot as plt"
   ]
  },
  {
   "cell_type": "code",
   "execution_count": 5,
   "metadata": {},
   "outputs": [
    {
     "data": {
      "image/png": "[encoded data removed]",
      "text/plain": [
       "<Figure size 432x288 with 1 Axes>"
      ]
     },
     "metadata": {
      "needs_background": "light"
     },
     "output_type": "display_data"
    }
   ],
   "source": [
    "frac = 0.2\n",
    "\n",
    "cm = plt.cm.PiYG\n",
    "cm_data = ListedColormap(['#66c2a5', '#8da0cb', '#fc8d62'])\n",
    "\n",
    "header = [0.0, 0.1, 0.2, 0.3, 0.4, 0.5, 0.6, 0.7, 0.8, 0.9, 1.0]\n",
    "index = np.array([0.0, 0.1, 0.2, 0.3, 0.4, 0.5, 0.6, 0.7, 0.8, 0.9, 1.0, 1.1, 1.2, 1.3, 1.4, 1.5, 1.6, 1.7, 1.8, 1.9, 2.0, 2.1, 2.2, 2.3, 2.4, 2.5, 2.6, 2.7, 2.8, 2.9, 3.0, 3.1, 3.2, 3.3, 3.4, 3.5, 3.6, 3.7, 3.8, 3.9, 4.0])\n",
    "#index = np.arange(0.0, 4.1, 0.1)\n",
    "\n",
    "data = pd.read_csv(f\"D:\\Daten mit Änderungen\\Physik\\Bachelorarbeit\\Generated_Data\\Bound\\Heatmap_frac{frac}.csv\", header = None, names=header)\n",
    "data.set_index(index, inplace=True)\n",
    "plt.figure()\n",
    "heatmap = sb.heatmap(data, cmap=cm_data, cbar = False)\n",
    "plt.gca().invert_yaxis()\n",
    "plt.xlabel('cos($\\delta$)')\n",
    "plt.ylabel(\"$\\\\alpha$\")\n",
    "plt.title(\"frac = 0.2\")\n",
    "plt.savefig(f\"D:\\Daten mit Änderungen\\Physik\\Bachelorarbeit\\Figures\\Heatmap_0.2.png\")"
   ]
  },
  {
   "cell_type": "code",
   "execution_count": null,
   "metadata": {},
   "outputs": [],
   "source": []
  }
 ],
 "metadata": {
  "kernelspec": {
   "display_name": "Python 3.10.4 64-bit",
   "language": "python",
   "name": "python3"
  },
  "language_info": {
   "codemirror_mode": {
    "name": "ipython",
    "version": 3
   },
   "file_extension": ".py",
   "mimetype": "text/x-python",
   "name": "python",
   "nbconvert_exporter": "python",
   "pygments_lexer": "ipython3",
   "version": "3.10.4"
  },
  "orig_nbformat": 4,
  "vscode": {
   "interpreter": {
    "hash": "6ddb9d49f01c08b650b2475798d3b5b8f5fc430922bf05166bf85d448657af32"
   }
  }
 },
 "nbformat": 4,
 "nbformat_minor": 2
}
